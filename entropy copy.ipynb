{
 "cells": [
  {
   "cell_type": "code",
   "execution_count": 21,
   "metadata": {},
   "outputs": [],
   "source": [
    "from scipy.stats import entropy\n",
    "import numpy as np\n",
    "import torch\n",
    "import torch.nn as nn\n",
    "import huffman\n",
    "import sys"
   ]
  },
  {
   "cell_type": "code",
   "execution_count": 38,
   "metadata": {},
   "outputs": [
    {
     "data": {
      "text/plain": [
       "11"
      ]
     },
     "execution_count": 38,
     "metadata": {},
     "output_type": "execute_result"
    }
   ],
   "source": [
    "len(' (huffman):')"
   ]
  },
  {
   "cell_type": "code",
   "execution_count": null,
   "metadata": {},
   "outputs": [
    {
     "data": {
      "text/plain": [
       "24"
      ]
     },
     "execution_count": 28,
     "metadata": {},
     "output_type": "execute_result"
    }
   ],
   "source": []
  },
  {
   "cell_type": "code",
   "execution_count": 25,
   "metadata": {},
   "outputs": [
    {
     "data": {
      "text/plain": [
       "80"
      ]
     },
     "execution_count": 25,
     "metadata": {},
     "output_type": "execute_result"
    }
   ],
   "source": [
    "sys.getsizeof(all_weights[0])"
   ]
  },
  {
   "cell_type": "code",
   "execution_count": 24,
   "metadata": {},
   "outputs": [
    {
     "name": "stdout",
     "output_type": "stream",
     "text": [
      "28\n",
      "50\n",
      "120\n",
      "232\n"
     ]
    }
   ],
   "source": [
    "import sys\n",
    "\n",
    "# Exemplo com diferentes tipos de variáveis\n",
    "a = 42  # Inteiro\n",
    "b = \"H\"  # String\n",
    "c = [1, 2, 3, 4, 5]  # Lista\n",
    "d = {\"chave\": \"valor\"}  # Dicionário\n",
    "\n",
    "# Obtendo os tamanhos\n",
    "print(sys.getsizeof(a))  # Tamanho do inteiro\n",
    "print(sys.getsizeof(b))  # Tamanho da string\n",
    "print(sys.getsizeof(c))  # Tamanho da lista\n",
    "print(sys.getsizeof(d))  # Tamanho do dicionário\n"
   ]
  },
  {
   "cell_type": "code",
   "execution_count": 43,
   "metadata": {},
   "outputs": [],
   "source": [
    "def entropy(probabilidades):\n",
    "    return -np.sum(probabilidades * np.log2(probabilidades))"
   ]
  },
  {
   "cell_type": "code",
   "execution_count": 6,
   "metadata": {},
   "outputs": [],
   "source": [
    "class Model(nn.Module):\n",
    "  def __init__(self):\n",
    "    super().__init__()\n",
    "    self.fc1 = nn.Linear(3, 4)\n",
    "    self.fc2 = nn.Linear(4, 1)\n",
    "  \n",
    "  def forward(self, x):\n",
    "    x = self.fc1(x)\n",
    "    return self.fc2(x)"
   ]
  },
  {
   "cell_type": "code",
   "execution_count": 10,
   "metadata": {},
   "outputs": [
    {
     "name": "stdout",
     "output_type": "stream",
     "text": [
      "Parameter containing:\n",
      "tensor([[-0.4100, -0.1536, -0.3355],\n",
      "        [ 0.3944, -0.4970, -0.3327],\n",
      "        [-0.5150, -0.2089, -0.4499],\n",
      "        [-0.4587,  0.3772, -0.3397]], requires_grad=True)\n",
      "Parameter containing:\n",
      "tensor([[ 0.0670,  0.3719, -0.1998, -0.3650]], requires_grad=True)\n"
     ]
    }
   ],
   "source": [
    "model = Model()\n",
    "for name, param in model.named_parameters():\n",
    "    if 'weight' in name:\n",
    "        print(param)"
   ]
  },
  {
   "cell_type": "code",
   "execution_count": 41,
   "metadata": {},
   "outputs": [
    {
     "name": "stdout",
     "output_type": "stream",
     "text": [
      "Entropia: 6.993609373537418\n"
     ]
    }
   ],
   "source": [
    "import numpy as np\n",
    "from scipy.stats import entropy\n",
    "\n",
    "# Dados de exemplo: todos os valores são 1\n",
    "data = np.random.rand(100000)\n",
    "\n",
    "# Calculando a entropia\n",
    "# Primeiro, calculamos a distribuição de frequência dos dados\n",
    "hist, bin_edges = np.histogram(data, bins=np.unique(data), density=True)\n",
    "\n",
    "# Agora, calculamos a entropia\n",
    "ent = entropy(hist)\n",
    "print(\"Entropia:\", ent)\n"
   ]
  },
  {
   "cell_type": "code",
   "execution_count": 38,
   "metadata": {},
   "outputs": [
    {
     "data": {
      "text/plain": [
       "array([1.])"
      ]
     },
     "execution_count": 38,
     "metadata": {},
     "output_type": "execute_result"
    }
   ],
   "source": [
    "bin_edges"
   ]
  },
  {
   "cell_type": "code",
   "execution_count": 1,
   "metadata": {},
   "outputs": [],
   "source": [
    "import torch.nn as nn\n",
    "import torch"
   ]
  },
  {
   "cell_type": "code",
   "execution_count": null,
   "metadata": {},
   "outputs": [],
   "source": []
  },
  {
   "cell_type": "code",
   "execution_count": 43,
   "metadata": {},
   "outputs": [
    {
     "data": {
      "text/plain": [
       "tensor([[0.3268],\n",
       "        [0.1880],\n",
       "        [0.2387],\n",
       "        [0.2465]], grad_fn=<DivBackward0>)"
      ]
     },
     "execution_count": 43,
     "metadata": {},
     "output_type": "execute_result"
    }
   ],
   "source": [
    "param = nn.Linear(1, 4)\n",
    "weights = param.weight\n",
    "prob = torch.abs(weights) / torch.sum(torch.abs(weights))\n",
    "prob"
   ]
  },
  {
   "cell_type": "code",
   "execution_count": null,
   "metadata": {},
   "outputs": [
    {
     "data": {
      "text/plain": [
       "tensor([[0.3254],\n",
       "        [0.3621],\n",
       "        [0.2353],\n",
       "        [0.0773]], grad_fn=<DivBackward0>)"
      ]
     },
     "execution_count": 14,
     "metadata": {},
     "output_type": "execute_result"
    }
   ],
   "source": []
  }
 ],
 "metadata": {
  "kernelspec": {
   "display_name": "Python 3",
   "language": "python",
   "name": "python3"
  },
  "language_info": {
   "codemirror_mode": {
    "name": "ipython",
    "version": 3
   },
   "file_extension": ".py",
   "mimetype": "text/x-python",
   "name": "python",
   "nbconvert_exporter": "python",
   "pygments_lexer": "ipython3",
   "version": "3.9.2"
  }
 },
 "nbformat": 4,
 "nbformat_minor": 2
}
