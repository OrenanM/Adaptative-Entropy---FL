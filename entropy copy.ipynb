{
 "cells": [
  {
   "cell_type": "code",
   "execution_count": 61,
   "metadata": {},
   "outputs": [],
   "source": [
    "import torch\n",
    "import torchvision.datasets as datasets \n",
    "import torchvision.transforms as transforms\n",
    "import torch.nn as nn\n",
    "import matplotlib.pyplot as plt\n",
    "from tqdm import tqdm\n",
    "from pathlib import Path\n",
    "import os"
   ]
  },
  {
   "cell_type": "code",
   "execution_count": 62,
   "metadata": {},
   "outputs": [],
   "source": [
    "# Make torch deterministic\n",
    "_ = torch.manual_seed(0)"
   ]
  },
  {
   "cell_type": "code",
   "execution_count": 31,
   "metadata": {},
   "outputs": [],
   "source": [
    "transform = transforms.Compose([transforms.ToTensor(), transforms.Normalize((0.1307,), (0.3081,))])\n",
    "\n",
    "# Load the MNIST dataset\n",
    "mnist_trainset = datasets.MNIST(root='./data', train=True, download=True, transform=transform)\n",
    "# Create a dataloader for the training\n",
    "train_loader = torch.utils.data.DataLoader(mnist_trainset, batch_size=10, shuffle=True)\n",
    "\n",
    "# Load the MNIST test set\n",
    "mnist_testset = datasets.MNIST(root='./data', train=False, download=True, transform=transform)\n",
    "test_loader = torch.utils.data.DataLoader(mnist_testset, batch_size=10, shuffle=True)\n",
    "\n",
    "# Define the device\n",
    "device = \"cpu\""
   ]
  },
  {
   "cell_type": "code",
   "execution_count": 42,
   "metadata": {},
   "outputs": [],
   "source": [
    "class VerySimpleNet(nn.Module):\n",
    "    def __init__(self, hidden_size_1=100, hidden_size_2=100):\n",
    "        super(VerySimpleNet,self).__init__()\n",
    "        self.quant = torch.quantization.QuantStub()\n",
    "        self.linear1 = nn.Linear(28*28, hidden_size_1) \n",
    "        self.linear2 = nn.Linear(hidden_size_1, hidden_size_2) \n",
    "        self.linear3 = nn.Linear(hidden_size_2, 10)\n",
    "        self.relu = nn.ReLU()\n",
    "        self.dequant = torch.quantization.DeQuantStub()\n",
    "\n",
    "    def forward(self, img):\n",
    "        x = img.view(-1, 28*28)\n",
    "        x = self.quant(x)\n",
    "        x = self.relu(self.linear1(x))\n",
    "        x = self.relu(self.linear2(x))\n",
    "        x = self.linear3(x)\n",
    "        x = self.dequant(x)\n",
    "        return x\n",
    "\n",
    "net = VerySimpleNet().to(device)\n"
   ]
  },
  {
   "cell_type": "code",
   "execution_count": 43,
   "metadata": {},
   "outputs": [
    {
     "data": {
      "text/plain": [
       "VerySimpleNet(\n",
       "  (quant): QuantStub(\n",
       "    (activation_post_process): MinMaxObserver(min_val=inf, max_val=-inf)\n",
       "  )\n",
       "  (linear1): Linear(\n",
       "    in_features=784, out_features=100, bias=True\n",
       "    (weight_fake_quant): MinMaxObserver(min_val=inf, max_val=-inf)\n",
       "    (activation_post_process): MinMaxObserver(min_val=inf, max_val=-inf)\n",
       "  )\n",
       "  (linear2): Linear(\n",
       "    in_features=100, out_features=100, bias=True\n",
       "    (weight_fake_quant): MinMaxObserver(min_val=inf, max_val=-inf)\n",
       "    (activation_post_process): MinMaxObserver(min_val=inf, max_val=-inf)\n",
       "  )\n",
       "  (linear3): Linear(\n",
       "    in_features=100, out_features=10, bias=True\n",
       "    (weight_fake_quant): MinMaxObserver(min_val=inf, max_val=-inf)\n",
       "    (activation_post_process): MinMaxObserver(min_val=inf, max_val=-inf)\n",
       "  )\n",
       "  (relu): ReLU()\n",
       "  (dequant): DeQuantStub()\n",
       ")"
      ]
     },
     "execution_count": 43,
     "metadata": {},
     "output_type": "execute_result"
    }
   ],
   "source": [
    "net.qconfig = torch.ao.quantization.default_qconfig\n",
    "net.train()\n",
    "net_quantized = torch.ao.quantization.prepare_qat(net) # Insert observers\n",
    "net_quantized"
   ]
  },
  {
   "cell_type": "code",
   "execution_count": 34,
   "metadata": {},
   "outputs": [
    {
     "name": "stderr",
     "output_type": "stream",
     "text": [
      "Epoch 1: 100%|██████████| 6000/6000 [00:29<00:00, 200.53it/s, loss=0.224]\n"
     ]
    }
   ],
   "source": [
    "def train(train_loader, net, epochs=5, total_iterations_limit=None):\n",
    "    cross_el = nn.CrossEntropyLoss()\n",
    "    optimizer = torch.optim.Adam(net.parameters(), lr=0.001)\n",
    "\n",
    "    total_iterations = 0\n",
    "\n",
    "    for epoch in range(epochs):\n",
    "        net.train()\n",
    "\n",
    "        loss_sum = 0\n",
    "        num_iterations = 0\n",
    "\n",
    "        data_iterator = tqdm(train_loader, desc=f'Epoch {epoch+1}')\n",
    "        if total_iterations_limit is not None:\n",
    "            data_iterator.total = total_iterations_limit\n",
    "        for data in data_iterator:\n",
    "            num_iterations += 1\n",
    "            total_iterations += 1\n",
    "            x, y = data\n",
    "            x = x.to(device)\n",
    "            y = y.to(device)\n",
    "            optimizer.zero_grad()\n",
    "            output = net(x.view(-1, 28*28))\n",
    "            loss = cross_el(output, y)\n",
    "            loss_sum += loss.item()\n",
    "            avg_loss = loss_sum / num_iterations\n",
    "            data_iterator.set_postfix(loss=avg_loss)\n",
    "            loss.backward()\n",
    "            optimizer.step()\n",
    "\n",
    "            if total_iterations_limit is not None and total_iterations >= total_iterations_limit:\n",
    "                return\n",
    "            \n",
    "def print_size_of_model(model):\n",
    "    torch.save(model.state_dict(), \"temp_delme.p\")\n",
    "    print('Size (KB):', os.path.getsize(\"temp_delme.p\")/1e3)\n",
    "    os.remove('temp_delme.p')\n",
    "\n",
    "train(train_loader, net_quantized, epochs=1)"
   ]
  },
  {
   "cell_type": "code",
   "execution_count": 35,
   "metadata": {},
   "outputs": [],
   "source": [
    "def test(model: nn.Module, total_iterations: int = None):\n",
    "    correct = 0\n",
    "    total = 0\n",
    "\n",
    "    iterations = 0\n",
    "\n",
    "    model.eval()\n",
    "\n",
    "    with torch.no_grad():\n",
    "        for data in tqdm(test_loader, desc='Testing'):\n",
    "            x, y = data\n",
    "            x = x.to(device)\n",
    "            y = y.to(device)\n",
    "            output = model(x.view(-1, 784))\n",
    "            for idx, i in enumerate(output):\n",
    "                if torch.argmax(i) == y[idx]:\n",
    "                    correct +=1\n",
    "                total +=1\n",
    "            iterations += 1\n",
    "            if total_iterations is not None and iterations >= total_iterations:\n",
    "                break\n",
    "    print(f'Accuracy: {round(correct/total, 3)}')\n"
   ]
  },
  {
   "cell_type": "code",
   "execution_count": 44,
   "metadata": {},
   "outputs": [
    {
     "name": "stderr",
     "output_type": "stream",
     "text": [
      "/home/renan/.local/lib/python3.9/site-packages/torch/ao/quantization/utils.py:317: UserWarning: must run observer before calling calculate_qparams. Returning default values.\n",
      "  warnings.warn(\n"
     ]
    }
   ],
   "source": [
    "net_quantized.eval()\n",
    "net_quantized = torch.ao.quantization.convert(net_quantized)"
   ]
  },
  {
   "cell_type": "code",
   "execution_count": 45,
   "metadata": {},
   "outputs": [
    {
     "name": "stdout",
     "output_type": "stream",
     "text": [
      "Size (KB): 361.062\n",
      "Size (KB): 95.394\n"
     ]
    }
   ],
   "source": [
    "print_size_of_model(net)\n",
    "print_size_of_model(net_quantized)"
   ]
  },
  {
   "cell_type": "code",
   "execution_count": 46,
   "metadata": {},
   "outputs": [
    {
     "name": "stdout",
     "output_type": "stream",
     "text": [
      "Weights before quantization\n",
      "tensor([[  -1,   68, -105,  ...,   78,   13,    7],\n",
      "        [ -71,  -53,  -37,  ...,  -72,  -21, -107],\n",
      "        [ -72,   53, -119,  ...,  -73,    4,   29],\n",
      "        ...,\n",
      "        [  79,   92,  -31,  ...,  -50,   18, -114],\n",
      "        [ -77,  -48,   66,  ...,   -4,   -4,   -6],\n",
      "        [  51,   32,  -19,  ...,  111,  -65,    7]], dtype=torch.int8)\n"
     ]
    }
   ],
   "source": [
    "print('Weights before quantization')\n",
    "print(torch.int_repr(net_quantized.linear1.weight()))"
   ]
  },
  {
   "cell_type": "code",
   "execution_count": 51,
   "metadata": {},
   "outputs": [
    {
     "data": {
      "text/plain": [
       "Parameter containing:\n",
       "tensor([[-0.0003,  0.0192, -0.0294,  ...,  0.0219,  0.0037,  0.0021],\n",
       "        [-0.0198, -0.0150, -0.0104,  ..., -0.0203, -0.0060, -0.0299],\n",
       "        [-0.0201,  0.0149, -0.0333,  ..., -0.0203,  0.0012,  0.0080],\n",
       "        ...,\n",
       "        [ 0.0221,  0.0258, -0.0088,  ..., -0.0141,  0.0051, -0.0318],\n",
       "        [-0.0217, -0.0136,  0.0185,  ..., -0.0012, -0.0012, -0.0017],\n",
       "        [ 0.0142,  0.0089, -0.0053,  ...,  0.0311, -0.0181,  0.0020]],\n",
       "       requires_grad=True)"
      ]
     },
     "execution_count": 51,
     "metadata": {},
     "output_type": "execute_result"
    }
   ],
   "source": [
    "(net.linear1.weight)"
   ]
  },
  {
   "cell_type": "code",
   "execution_count": null,
   "metadata": {},
   "outputs": [
    {
     "name": "stdout",
     "output_type": "stream",
     "text": [
      "Pesos antes da quantização:\n",
      "Parameter containing:\n",
      "tensor([[ 0.0094, -0.0010, -0.0346,  ...,  0.0212,  0.0081,  0.0045],\n",
      "        [ 0.0155,  0.0012, -0.0284,  ..., -0.0085,  0.0067, -0.0324],\n",
      "        [-0.0255, -0.0122, -0.0105,  ..., -0.0346, -0.0156, -0.0003],\n",
      "        ...,\n",
      "        [-0.0252, -0.0017,  0.0309,  ...,  0.0141, -0.0328,  0.0246],\n",
      "        [ 0.0121,  0.0155,  0.0333,  ..., -0.0195,  0.0311,  0.0292],\n",
      "        [ 0.0343, -0.0196, -0.0254,  ..., -0.0004, -0.0308,  0.0105]],\n",
      "       requires_grad=True)\n",
      "\n",
      "Pesos após a quantização:\n",
      "tensor([[ 0.0095, -0.0011, -0.0345,  ...,  0.0213,  0.0081,  0.0045],\n",
      "        [ 0.0154,  0.0011, -0.0283,  ..., -0.0084,  0.0067, -0.0325],\n",
      "        [-0.0255, -0.0120, -0.0106,  ..., -0.0347, -0.0157, -0.0003],\n",
      "        ...,\n",
      "        [-0.0252, -0.0017,  0.0308,  ...,  0.0140, -0.0328,  0.0246],\n",
      "        [ 0.0120,  0.0154,  0.0333,  ..., -0.0196,  0.0311,  0.0291],\n",
      "        [ 0.0342, -0.0196, -0.0255,  ..., -0.0003, -0.0308,  0.0106]],\n",
      "       size=(100, 784), dtype=torch.qint8,\n",
      "       quantization_scheme=torch.per_tensor_affine, scale=0.00028011196991428733,\n",
      "       zero_point=0)\n",
      "Size (KB): 361.062\n",
      "Size (KB): 94.818\n"
     ]
    }
   ],
   "source": [
    "# Instanciar o modelo\n",
    "import torch.ao.quantization\n",
    "\n",
    "\n",
    "net = VerySimpleNet()\n",
    "\n",
    "# Aplicar quantização dinâmica no modelo\n",
    "net_quantized = torch.ao.quantization.quantize_dynamic(\n",
    "    net,  # Modelo a ser quantizado\n",
    "    {torch.nn.Linear},  # Camadas a serem quantizadas dinamicamente\n",
    "    dtype=torch.qint8  # Tipo de quantização\n",
    ")\n",
    "\n",
    "# Exibir pesos antes e após a quantização\n",
    "print(\"Pesos antes da quantização:\")\n",
    "print(net.linear1.weight)\n",
    "\n",
    "print(\"\\nPesos após a quantização:\")\n",
    "print(net_quantized.linear1.weight())\n",
    "\n",
    "print_size_of_model(net)\n",
    "print_size_of_model(net_quantized)"
   ]
  },
  {
   "cell_type": "code",
   "execution_count": 60,
   "metadata": {},
   "outputs": [
    {
     "ename": "TypeError",
     "evalue": "_unique2(): argument 'input' (position 1) must be Tensor, not VerySimpleNet",
     "output_type": "error",
     "traceback": [
      "\u001b[0;31m---------------------------------------------------------------------------\u001b[0m",
      "\u001b[0;31mTypeError\u001b[0m                                 Traceback (most recent call last)",
      "Cell \u001b[0;32mIn[60], line 1\u001b[0m\n\u001b[0;32m----> 1\u001b[0m \u001b[43mtorch\u001b[49m\u001b[38;5;241;43m.\u001b[39;49m\u001b[43munique\u001b[49m\u001b[43m(\u001b[49m\u001b[43mnet_quantized\u001b[49m\u001b[43m)\u001b[49m\n",
      "File \u001b[0;32m~/.local/lib/python3.9/site-packages/torch/_jit_internal.py:488\u001b[0m, in \u001b[0;36mboolean_dispatch.<locals>.fn\u001b[0;34m(*args, **kwargs)\u001b[0m\n\u001b[1;32m    486\u001b[0m     \u001b[38;5;28;01mreturn\u001b[39;00m if_true(\u001b[38;5;241m*\u001b[39margs, \u001b[38;5;241m*\u001b[39m\u001b[38;5;241m*\u001b[39mkwargs)\n\u001b[1;32m    487\u001b[0m \u001b[38;5;28;01melse\u001b[39;00m:\n\u001b[0;32m--> 488\u001b[0m     \u001b[38;5;28;01mreturn\u001b[39;00m \u001b[43mif_false\u001b[49m\u001b[43m(\u001b[49m\u001b[38;5;241;43m*\u001b[39;49m\u001b[43margs\u001b[49m\u001b[43m,\u001b[49m\u001b[43m \u001b[49m\u001b[38;5;241;43m*\u001b[39;49m\u001b[38;5;241;43m*\u001b[39;49m\u001b[43mkwargs\u001b[49m\u001b[43m)\u001b[49m\n",
      "File \u001b[0;32m~/.local/lib/python3.9/site-packages/torch/_jit_internal.py:488\u001b[0m, in \u001b[0;36mboolean_dispatch.<locals>.fn\u001b[0;34m(*args, **kwargs)\u001b[0m\n\u001b[1;32m    486\u001b[0m     \u001b[38;5;28;01mreturn\u001b[39;00m if_true(\u001b[38;5;241m*\u001b[39margs, \u001b[38;5;241m*\u001b[39m\u001b[38;5;241m*\u001b[39mkwargs)\n\u001b[1;32m    487\u001b[0m \u001b[38;5;28;01melse\u001b[39;00m:\n\u001b[0;32m--> 488\u001b[0m     \u001b[38;5;28;01mreturn\u001b[39;00m \u001b[43mif_false\u001b[49m\u001b[43m(\u001b[49m\u001b[38;5;241;43m*\u001b[39;49m\u001b[43margs\u001b[49m\u001b[43m,\u001b[49m\u001b[43m \u001b[49m\u001b[38;5;241;43m*\u001b[39;49m\u001b[38;5;241;43m*\u001b[39;49m\u001b[43mkwargs\u001b[49m\u001b[43m)\u001b[49m\n",
      "File \u001b[0;32m~/.local/lib/python3.9/site-packages/torch/functional.py:976\u001b[0m, in \u001b[0;36m_return_output\u001b[0;34m(input, sorted, return_inverse, return_counts, dim)\u001b[0m\n\u001b[1;32m    973\u001b[0m \u001b[38;5;28;01mif\u001b[39;00m has_torch_function_unary(\u001b[38;5;28minput\u001b[39m):\n\u001b[1;32m    974\u001b[0m     \u001b[38;5;28;01mreturn\u001b[39;00m _unique_impl(\u001b[38;5;28minput\u001b[39m, \u001b[38;5;28msorted\u001b[39m, return_inverse, return_counts, dim)\n\u001b[0;32m--> 976\u001b[0m output, _, _ \u001b[38;5;241m=\u001b[39m \u001b[43m_unique_impl\u001b[49m\u001b[43m(\u001b[49m\u001b[38;5;28;43minput\u001b[39;49m\u001b[43m,\u001b[49m\u001b[43m \u001b[49m\u001b[38;5;28;43msorted\u001b[39;49m\u001b[43m,\u001b[49m\u001b[43m \u001b[49m\u001b[43mreturn_inverse\u001b[49m\u001b[43m,\u001b[49m\u001b[43m \u001b[49m\u001b[43mreturn_counts\u001b[49m\u001b[43m,\u001b[49m\u001b[43m \u001b[49m\u001b[43mdim\u001b[49m\u001b[43m)\u001b[49m\n\u001b[1;32m    977\u001b[0m \u001b[38;5;28;01mreturn\u001b[39;00m output\n",
      "File \u001b[0;32m~/.local/lib/python3.9/site-packages/torch/functional.py:890\u001b[0m, in \u001b[0;36m_unique_impl\u001b[0;34m(input, sorted, return_inverse, return_counts, dim)\u001b[0m\n\u001b[1;32m    882\u001b[0m     output, inverse_indices, counts \u001b[38;5;241m=\u001b[39m _VF\u001b[38;5;241m.\u001b[39munique_dim(\n\u001b[1;32m    883\u001b[0m         \u001b[38;5;28minput\u001b[39m,\n\u001b[1;32m    884\u001b[0m         dim,\n\u001b[0;32m   (...)\u001b[0m\n\u001b[1;32m    887\u001b[0m         return_counts\u001b[38;5;241m=\u001b[39mreturn_counts,\n\u001b[1;32m    888\u001b[0m     )\n\u001b[1;32m    889\u001b[0m \u001b[38;5;28;01melse\u001b[39;00m:\n\u001b[0;32m--> 890\u001b[0m     output, inverse_indices, counts \u001b[38;5;241m=\u001b[39m \u001b[43mtorch\u001b[49m\u001b[38;5;241;43m.\u001b[39;49m\u001b[43m_unique2\u001b[49m\u001b[43m(\u001b[49m\n\u001b[1;32m    891\u001b[0m \u001b[43m        \u001b[49m\u001b[38;5;28;43minput\u001b[39;49m\u001b[43m,\u001b[49m\n\u001b[1;32m    892\u001b[0m \u001b[43m        \u001b[49m\u001b[38;5;28;43msorted\u001b[39;49m\u001b[38;5;241;43m=\u001b[39;49m\u001b[38;5;28;43msorted\u001b[39;49m\u001b[43m,\u001b[49m\n\u001b[1;32m    893\u001b[0m \u001b[43m        \u001b[49m\u001b[43mreturn_inverse\u001b[49m\u001b[38;5;241;43m=\u001b[39;49m\u001b[43mreturn_inverse\u001b[49m\u001b[43m,\u001b[49m\n\u001b[1;32m    894\u001b[0m \u001b[43m        \u001b[49m\u001b[43mreturn_counts\u001b[49m\u001b[38;5;241;43m=\u001b[39;49m\u001b[43mreturn_counts\u001b[49m\u001b[43m,\u001b[49m\n\u001b[1;32m    895\u001b[0m \u001b[43m    \u001b[49m\u001b[43m)\u001b[49m\n\u001b[1;32m    896\u001b[0m \u001b[38;5;28;01mreturn\u001b[39;00m output, inverse_indices, counts\n",
      "\u001b[0;31mTypeError\u001b[0m: _unique2(): argument 'input' (position 1) must be Tensor, not VerySimpleNet"
     ]
    }
   ],
   "source": [
    "torch.unique(net_quantized)"
   ]
  },
  {
   "cell_type": "code",
   "execution_count": 59,
   "metadata": {},
   "outputs": [
    {
     "name": "stdout",
     "output_type": "stream",
     "text": [
      "\n",
      "Pesos após dequantização (retornando ao ponto flutuante):\n",
      "tensor([[ 0.0095, -0.0011, -0.0345,  ...,  0.0213,  0.0081,  0.0045],\n",
      "        [ 0.0154,  0.0011, -0.0283,  ..., -0.0084,  0.0067, -0.0325],\n",
      "        [-0.0255, -0.0120, -0.0106,  ..., -0.0347, -0.0157, -0.0003],\n",
      "        ...,\n",
      "        [-0.0252, -0.0017,  0.0308,  ...,  0.0140, -0.0328,  0.0246],\n",
      "        [ 0.0120,  0.0154,  0.0333,  ..., -0.0196,  0.0311,  0.0291],\n",
      "        [ 0.0342, -0.0196, -0.0255,  ..., -0.0003, -0.0308,  0.0106]])\n"
     ]
    }
   ],
   "source": [
    "# Dequantizar os pesos\n",
    "weights_dequantized = net_quantized.linear1.weight().dequantize()\n",
    "\n",
    "print(\"\\nPesos após dequantização (retornando ao ponto flutuante):\")\n",
    "print(weights_dequantized)"
   ]
  },
  {
   "cell_type": "code",
   "execution_count": 63,
   "metadata": {},
   "outputs": [
    {
     "data": {
      "text/plain": [
       "[('',\n",
       "  VerySimpleNet(\n",
       "    (quant): QuantStub()\n",
       "    (linear1): DynamicQuantizedLinear(in_features=784, out_features=100, dtype=torch.qint8, qscheme=torch.per_tensor_affine)\n",
       "    (linear2): DynamicQuantizedLinear(in_features=100, out_features=100, dtype=torch.qint8, qscheme=torch.per_tensor_affine)\n",
       "    (linear3): DynamicQuantizedLinear(in_features=100, out_features=10, dtype=torch.qint8, qscheme=torch.per_tensor_affine)\n",
       "    (relu): ReLU()\n",
       "    (dequant): DeQuantStub()\n",
       "  )),\n",
       " ('quant', QuantStub()),\n",
       " ('linear1',\n",
       "  DynamicQuantizedLinear(in_features=784, out_features=100, dtype=torch.qint8, qscheme=torch.per_tensor_affine)),\n",
       " ('linear1._packed_params',\n",
       "  (tensor([[ 0.0095, -0.0011, -0.0345,  ...,  0.0213,  0.0081,  0.0045],\n",
       "          [ 0.0154,  0.0011, -0.0283,  ..., -0.0084,  0.0067, -0.0325],\n",
       "          [-0.0255, -0.0120, -0.0106,  ..., -0.0347, -0.0157, -0.0003],\n",
       "          ...,\n",
       "          [-0.0252, -0.0017,  0.0308,  ...,  0.0140, -0.0328,  0.0246],\n",
       "          [ 0.0120,  0.0154,  0.0333,  ..., -0.0196,  0.0311,  0.0291],\n",
       "          [ 0.0342, -0.0196, -0.0255,  ..., -0.0003, -0.0308,  0.0106]],\n",
       "         size=(100, 784), dtype=torch.qint8,\n",
       "         quantization_scheme=torch.per_tensor_affine, scale=0.00028011196991428733,\n",
       "         zero_point=0), Parameter containing:\n",
       "  tensor([ 0.0217, -0.0215,  0.0159,  0.0143, -0.0070,  0.0009, -0.0231, -0.0245,\n",
       "          -0.0321,  0.0285, -0.0156,  0.0003, -0.0143,  0.0109, -0.0265,  0.0196,\n",
       "           0.0192,  0.0349, -0.0317, -0.0095, -0.0269,  0.0101,  0.0348,  0.0293,\n",
       "          -0.0118, -0.0143, -0.0240,  0.0169, -0.0038, -0.0027,  0.0307,  0.0332,\n",
       "          -0.0279, -0.0109, -0.0152, -0.0099,  0.0289, -0.0232, -0.0288, -0.0125,\n",
       "           0.0223,  0.0197, -0.0137,  0.0256, -0.0336, -0.0279, -0.0338,  0.0297,\n",
       "           0.0284, -0.0342, -0.0185,  0.0231,  0.0212,  0.0034, -0.0213,  0.0163,\n",
       "           0.0325,  0.0118,  0.0232,  0.0109,  0.0069, -0.0116,  0.0222, -0.0291,\n",
       "          -0.0009,  0.0335,  0.0166,  0.0098, -0.0235,  0.0126,  0.0137, -0.0106,\n",
       "           0.0216,  0.0095, -0.0152,  0.0037, -0.0340, -0.0307, -0.0184,  0.0134,\n",
       "           0.0054,  0.0003,  0.0238,  0.0145, -0.0047, -0.0021, -0.0136,  0.0093,\n",
       "           0.0327, -0.0245,  0.0343,  0.0318,  0.0023,  0.0203, -0.0007,  0.0055,\n",
       "          -0.0287, -0.0349, -0.0288, -0.0185], requires_grad=True))),\n",
       " ('linear2',\n",
       "  DynamicQuantizedLinear(in_features=100, out_features=100, dtype=torch.qint8, qscheme=torch.per_tensor_affine)),\n",
       " ('linear2._packed_params',\n",
       "  (tensor([[ 0.0345,  0.0384, -0.0518,  ..., -0.0102,  0.0792, -0.0839],\n",
       "          [ 0.0157, -0.0353, -0.0063,  ..., -0.0047,  0.0455, -0.0533],\n",
       "          [-0.0267,  0.0910,  0.0392,  ..., -0.0769, -0.0502, -0.0816],\n",
       "          ...,\n",
       "          [-0.0525, -0.0996,  0.0635,  ...,  0.0376,  0.0212,  0.0902],\n",
       "          [ 0.0047,  0.0259,  0.0494,  ..., -0.0863,  0.0227, -0.0894],\n",
       "          [ 0.0157,  0.0078, -0.0831,  ...,  0.0353,  0.0141,  0.0855]],\n",
       "         size=(100, 100), dtype=torch.qint8,\n",
       "         quantization_scheme=torch.per_tensor_affine, scale=0.0007842530612833798,\n",
       "         zero_point=0), Parameter containing:\n",
       "  tensor([ 0.0373,  0.0445, -0.0355, -0.0281,  0.0076,  0.0779,  0.0067,  0.0809,\n",
       "          -0.0666, -0.0799,  0.0159, -0.0526, -0.0955,  0.0133,  0.0172, -0.0767,\n",
       "          -0.0548,  0.0393, -0.0640, -0.0405,  0.0694, -0.0887, -0.0400, -0.0810,\n",
       "          -0.0836, -0.0308, -0.0859,  0.0073, -0.0749,  0.0998,  0.0792, -0.0404,\n",
       "           0.0849,  0.0995,  0.0553,  0.0493,  0.0364, -0.0938,  0.0134,  0.0216,\n",
       "           0.0615, -0.0399,  0.0978, -0.0354, -0.0202, -0.0486, -0.0285,  0.0628,\n",
       "           0.0515,  0.0633,  0.0110, -0.0839, -0.0630, -0.0048, -0.0543, -0.0650,\n",
       "           0.0522,  0.0189, -0.0262,  0.0713,  0.0296,  0.0199,  0.0296, -0.0981,\n",
       "           0.0618, -0.0022, -0.0665,  0.0103, -0.0685,  0.0184, -0.0133,  0.0303,\n",
       "          -0.0043,  0.0406,  0.0873,  0.0921, -0.0014,  0.0869, -0.0053,  0.0610,\n",
       "          -0.0612, -0.0291, -0.0039, -0.0376,  0.0877, -0.0070, -0.0297, -0.0763,\n",
       "          -0.0814, -0.0681, -0.0443, -0.0109,  0.0085,  0.0491,  0.0038,  0.0072,\n",
       "          -0.0125,  0.0334, -0.0568, -0.0783], requires_grad=True))),\n",
       " ('linear3',\n",
       "  DynamicQuantizedLinear(in_features=100, out_features=10, dtype=torch.qint8, qscheme=torch.per_tensor_affine)),\n",
       " ('linear3._packed_params',\n",
       "  (tensor([[-0.0031, -0.0071, -0.0682, -0.0831,  0.0329,  0.0329, -0.0353, -0.0486,\n",
       "           -0.0893, -0.0251,  0.0611,  0.0776,  0.0243,  0.0533,  0.0697, -0.0290,\n",
       "            0.0690, -0.0125,  0.0282, -0.0799, -0.0917, -0.0987,  0.0768, -0.0627,\n",
       "           -0.0368, -0.0705, -0.0337, -0.0611, -0.0627,  0.0008,  0.0102,  0.0094,\n",
       "            0.0925,  0.0024, -0.0517,  0.0384,  0.0815,  0.0431, -0.0768,  0.0494,\n",
       "            0.0008,  0.0486,  0.0572,  0.0024,  0.0219,  0.0650,  0.0423, -0.0768,\n",
       "            0.0760, -0.0360,  0.0878, -0.0243,  0.0713, -0.0682,  0.0212,  0.0094,\n",
       "           -0.0188, -0.0071,  0.0376,  0.0925,  0.0588, -0.0400, -0.0807, -0.0188,\n",
       "            0.0125, -0.0102, -0.0212,  0.0925, -0.0533, -0.0227, -0.0172,  0.0870,\n",
       "            0.0721, -0.0533, -0.0439, -0.0071,  0.0948,  0.0321, -0.0102, -0.0470,\n",
       "           -0.0282,  0.0039, -0.0713,  0.0752, -0.0588,  0.0909, -0.0979,  0.0690,\n",
       "            0.0031,  0.0024, -0.0760,  0.0486,  0.0525, -0.0345,  0.0165,  0.0494,\n",
       "            0.0407, -0.0400,  0.0964,  0.0556],\n",
       "          [-0.0360, -0.0110,  0.0078, -0.0141, -0.0501, -0.0987,  0.0392, -0.0885,\n",
       "            0.0188,  0.0157, -0.0752,  0.0838, -0.0979,  0.0831, -0.0572, -0.0721,\n",
       "           -0.0729,  0.0407,  0.0525,  0.0925,  0.0078,  0.0932,  0.0353, -0.0588,\n",
       "            0.0141,  0.0039, -0.0987, -0.0039,  0.0165,  0.0125, -0.0165, -0.0180,\n",
       "           -0.0055, -0.0799,  0.0149,  0.0157, -0.0572, -0.0721, -0.0298, -0.0972,\n",
       "           -0.0784, -0.0737,  0.0345,  0.0690, -0.0831, -0.0094,  0.0125, -0.0823,\n",
       "            0.0658, -0.0729,  0.0282,  0.0588, -0.0086, -0.0251,  0.0862,  0.0016,\n",
       "           -0.0462,  0.0376,  0.0376, -0.0259,  0.0259,  0.0133,  0.0643, -0.0071,\n",
       "           -0.0118,  0.0972, -0.0509,  0.0635, -0.0862, -0.0243,  0.0643, -0.0329,\n",
       "           -0.0791, -0.0454,  0.0635,  0.0306, -0.0690,  0.0251, -0.0776, -0.0274,\n",
       "            0.0400,  0.0118,  0.0658, -0.0909, -0.0525, -0.0650, -0.0470,  0.0501,\n",
       "           -0.0384,  0.0854, -0.0940,  0.0274,  0.0172, -0.0979,  0.0776, -0.0039,\n",
       "            0.0964, -0.0470,  0.0047, -0.0392],\n",
       "          [ 0.0219,  0.0172, -0.0525, -0.0337,  0.0854,  0.0306, -0.0917, -0.0611,\n",
       "            0.0893, -0.0979, -0.0501,  0.0235,  0.0815, -0.0462,  0.0376,  0.0580,\n",
       "            0.0125, -0.0462,  0.0039,  0.0024, -0.0494,  0.0878,  0.0055,  0.0541,\n",
       "           -0.0972,  0.0400,  0.0768, -0.0846, -0.0776, -0.0149, -0.0149,  0.0078,\n",
       "           -0.0509,  0.0102,  0.0854, -0.0353,  0.0854,  0.0447,  0.0737,  0.0721,\n",
       "           -0.0180,  0.0799, -0.0909,  0.0118,  0.0384, -0.0603,  0.0000, -0.0204,\n",
       "            0.0478, -0.0815, -0.0885,  0.0697,  0.0650, -0.0846, -0.0964, -0.0854,\n",
       "            0.0078,  0.0118,  0.0901, -0.0063, -0.0266,  0.0180,  0.0572, -0.0423,\n",
       "            0.0125, -0.0266, -0.0987, -0.0345, -0.0995,  0.0415, -0.0556,  0.0713,\n",
       "            0.0972,  0.0596, -0.0219,  0.0400,  0.0791,  0.0125, -0.0133, -0.0008,\n",
       "           -0.0643,  0.0259, -0.0016, -0.0329,  0.0713,  0.0219,  0.0478, -0.0282,\n",
       "           -0.0133, -0.0611,  0.0110,  0.0392, -0.0212, -0.0744,  0.0266,  0.0838,\n",
       "            0.0682,  0.0744,  0.0063, -0.0549],\n",
       "          [-0.0306,  0.0094,  0.0243, -0.0165,  0.0862,  0.0392,  0.0400,  0.0799,\n",
       "           -0.0972,  0.0118,  0.0556,  0.0282, -0.0439,  0.0063, -0.0838,  0.0439,\n",
       "            0.0290,  0.0384,  0.0196,  0.0047, -0.0674,  0.0094,  0.0831,  0.0368,\n",
       "           -0.0854, -0.0337,  0.0071,  0.0549,  0.0470, -0.0721,  0.0682,  0.0760,\n",
       "            0.0815,  0.0799,  0.0016, -0.0031,  0.0376,  0.0932,  0.0274,  0.0345,\n",
       "           -0.0572,  0.0752,  0.0815, -0.0415,  0.0125, -0.0791,  0.0846,  0.0862,\n",
       "            0.0580, -0.0588, -0.0212, -0.0964, -0.0909,  0.0392, -0.0478,  0.0031,\n",
       "            0.0721, -0.0893,  0.0956,  0.0588, -0.0713,  0.0580,  0.0078, -0.0478,\n",
       "            0.0776, -0.0525,  0.0454, -0.0470, -0.0133,  0.0643, -0.0674, -0.0259,\n",
       "           -0.0737,  0.0956,  0.0627,  0.0039, -0.0235,  0.0462, -0.0979, -0.0744,\n",
       "           -0.0016,  0.0345, -0.0321, -0.0564,  0.0674, -0.0807,  0.0259,  0.0063,\n",
       "           -0.0290, -0.0024, -0.0407, -0.0807,  0.0737,  0.0619,  0.0376,  0.0893,\n",
       "           -0.0282,  0.0838, -0.0885, -0.0611],\n",
       "          [ 0.0627, -0.0627, -0.0925,  0.0259, -0.0376,  0.0611, -0.0078,  0.0925,\n",
       "            0.0470, -0.0807,  0.0212, -0.0799, -0.0541, -0.0204,  0.0878, -0.0266,\n",
       "            0.0047, -0.0024, -0.0964, -0.0494, -0.0776,  0.0517,  0.0940, -0.0643,\n",
       "           -0.0885, -0.0635,  0.0212, -0.0917,  0.0251, -0.0400,  0.0078, -0.0564,\n",
       "           -0.0760, -0.0118, -0.0118,  0.0744, -0.0353, -0.0666,  0.0893, -0.0204,\n",
       "            0.0846,  0.0893, -0.0235, -0.0862,  0.0227, -0.0940,  0.0274, -0.0619,\n",
       "           -0.0251, -0.0071, -0.0721,  0.0846,  0.0439, -0.0329,  0.0376, -0.0995,\n",
       "            0.0008,  0.0823, -0.0674, -0.0838, -0.0478,  0.0760,  0.0901, -0.0235,\n",
       "            0.0838, -0.0165, -0.0533,  0.0917, -0.0407,  0.0940,  0.0760,  0.0729,\n",
       "            0.0133, -0.0384,  0.0635,  0.0439,  0.0000,  0.0697,  0.0791, -0.0400,\n",
       "            0.0384, -0.0290,  0.0016, -0.0838, -0.0948, -0.0165, -0.0196, -0.0791,\n",
       "           -0.0807, -0.0776,  0.0227, -0.0713, -0.0447, -0.0979, -0.0431,  0.0298,\n",
       "           -0.0039, -0.0517, -0.0039, -0.0086],\n",
       "          [-0.0721, -0.0823, -0.0603,  0.0831,  0.0149, -0.0274, -0.0666,  0.0791,\n",
       "            0.0995, -0.0204, -0.0768,  0.0407,  0.0823,  0.0094, -0.0995,  0.0713,\n",
       "            0.0219, -0.0376, -0.0219, -0.0987,  0.0157,  0.0611, -0.0259,  0.0580,\n",
       "           -0.0266,  0.0862, -0.0368, -0.0078, -0.0956, -0.0313,  0.0533,  0.0987,\n",
       "           -0.0501,  0.0055,  0.0721, -0.0784, -0.0541, -0.0979,  0.0549, -0.0674,\n",
       "           -0.0940, -0.0094, -0.0596, -0.0509,  0.0658,  0.0964,  0.0987, -0.0995,\n",
       "            0.0478, -0.0321,  0.0588,  0.0337, -0.0995, -0.0588,  0.0329,  0.0596,\n",
       "           -0.0580, -0.0376,  0.0368, -0.0086, -0.0768,  0.0353, -0.0517, -0.0525,\n",
       "           -0.0619, -0.0165,  0.0972,  0.0619,  0.0799, -0.0854,  0.0972, -0.0932,\n",
       "           -0.0995,  0.0055, -0.0987,  0.0525,  0.0125,  0.0478, -0.0172,  0.0368,\n",
       "            0.0133,  0.0596, -0.0635, -0.0846, -0.0838,  0.0376, -0.0870, -0.0321,\n",
       "            0.0721, -0.0752,  0.0784, -0.0165, -0.0815, -0.0039, -0.0392,  0.0212,\n",
       "           -0.0454,  0.0039, -0.0635,  0.0282],\n",
       "          [ 0.0494, -0.0110,  0.0306,  0.0290, -0.0094, -0.0360,  0.0838,  0.0094,\n",
       "           -0.0572,  0.0110,  0.0376,  0.0180, -0.0008, -0.0799, -0.0768,  0.0431,\n",
       "            0.0862, -0.0752,  0.0603,  0.0298,  0.0917, -0.0227,  0.0384, -0.0721,\n",
       "           -0.0071, -0.0243, -0.0407, -0.0917,  0.0031, -0.0447,  0.0259,  0.0619,\n",
       "           -0.0643,  0.0674, -0.0948,  0.0188,  0.0932,  0.0102, -0.0705, -0.0776,\n",
       "           -0.0807,  0.0972, -0.0838,  0.0760, -0.0133,  0.0274, -0.0862,  0.0885,\n",
       "            0.0862, -0.0972, -0.0768,  0.0204,  0.0290,  0.0212,  0.0697, -0.0815,\n",
       "           -0.0306, -0.0964,  0.0885,  0.0423,  0.0948,  0.0400, -0.0885,  0.0149,\n",
       "            0.0588,  0.0932,  0.0329,  0.0298,  0.0321,  0.0940,  0.0729,  0.0815,\n",
       "           -0.0697, -0.0572,  0.0266, -0.0345, -0.0321, -0.0227, -0.0917,  0.0282,\n",
       "           -0.0415, -0.0596,  0.0956, -0.0016,  0.0760,  0.0580,  0.0713, -0.0885,\n",
       "            0.0462, -0.0893,  0.0815,  0.0180,  0.0423, -0.0165, -0.0501,  0.0266,\n",
       "           -0.0157,  0.0729,  0.0854,  0.0298],\n",
       "          [-0.0024, -0.0235, -0.0368,  0.0760,  0.0572, -0.0940, -0.0125, -0.0149,\n",
       "           -0.0337, -0.0298, -0.0282, -0.0549,  0.0533,  0.0509,  0.0071,  0.0423,\n",
       "            0.0298, -0.0509,  0.0854,  0.0870,  0.0133, -0.0697, -0.0760, -0.0831,\n",
       "            0.0031,  0.0439, -0.0596,  0.0439,  0.0525, -0.0313, -0.0478, -0.0360,\n",
       "           -0.0776, -0.0760,  0.0188,  0.0306, -0.0165,  0.0212,  0.0078,  0.0298,\n",
       "           -0.0674, -0.0627, -0.0917, -0.0071, -0.0870,  0.0165,  0.0893, -0.0016,\n",
       "           -0.0823, -0.0478, -0.0486,  0.0212,  0.0180, -0.0823, -0.0948,  0.0235,\n",
       "           -0.0235, -0.0423,  0.0345,  0.0878, -0.0760,  0.0635, -0.0744, -0.0094,\n",
       "            0.0196, -0.0603, -0.0611, -0.0917,  0.0948,  0.0227, -0.0376,  0.0486,\n",
       "           -0.0494, -0.0423, -0.0400,  0.0556, -0.0149, -0.0024,  0.0204,  0.0345,\n",
       "           -0.0956,  0.0415, -0.0024,  0.0956,  0.0501, -0.0494,  0.0517,  0.0901,\n",
       "           -0.0196,  0.0400, -0.0486,  0.0611,  0.0846, -0.0948, -0.0470,  0.0627,\n",
       "           -0.0979,  0.0846,  0.0486, -0.0462],\n",
       "          [ 0.0266, -0.0987, -0.0212, -0.0791, -0.0893,  0.0172,  0.0917, -0.0697,\n",
       "           -0.0619,  0.0556, -0.0925, -0.0838,  0.0345,  0.0071, -0.0321,  0.0533,\n",
       "            0.0125, -0.0862, -0.0572, -0.0039,  0.0909, -0.0948, -0.0118, -0.0846,\n",
       "            0.0000, -0.0635, -0.0713,  0.0776,  0.0196, -0.0556,  0.0000, -0.0141,\n",
       "            0.0219,  0.0063, -0.0932,  0.0791,  0.0329,  0.0627,  0.0831,  0.0172,\n",
       "            0.0823,  0.0862, -0.0407,  0.0799, -0.0603, -0.0329,  0.0188,  0.0635,\n",
       "           -0.0807, -0.0674,  0.0870,  0.0102,  0.0313,  0.0024,  0.0643,  0.0838,\n",
       "            0.0682, -0.0266,  0.0870,  0.0329,  0.0831, -0.0823, -0.0909, -0.0454,\n",
       "            0.0509,  0.0494, -0.0823, -0.0862,  0.0368,  0.0172, -0.0643, -0.0298,\n",
       "           -0.0188,  0.0376,  0.0251,  0.0643,  0.0329,  0.0807, -0.0094, -0.0752,\n",
       "           -0.0674,  0.0721, -0.0306,  0.0572, -0.0016, -0.0462,  0.0243, -0.0784,\n",
       "           -0.0039,  0.0572,  0.0078,  0.0987,  0.0321, -0.0784,  0.0016, -0.0987,\n",
       "           -0.0588,  0.0807,  0.0588, -0.0635],\n",
       "          [ 0.0368,  0.0729, -0.0462, -0.0024,  0.0368, -0.0235,  0.0807,  0.0329,\n",
       "           -0.0298,  0.0948,  0.0674,  0.0368,  0.0878, -0.0337,  0.0932,  0.0478,\n",
       "            0.0125,  0.0110, -0.0721, -0.0306,  0.0596,  0.0172,  0.0423, -0.0470,\n",
       "           -0.0337,  0.0635, -0.0306,  0.0972, -0.0909,  0.0925, -0.0306, -0.0454,\n",
       "            0.0431,  0.0188, -0.0478,  0.0885, -0.0125, -0.0815, -0.0047,  0.0729,\n",
       "           -0.0353, -0.0854, -0.0274, -0.0125,  0.0784,  0.0384,  0.0823,  0.0917,\n",
       "            0.0752,  0.0384,  0.0400,  0.0212,  0.0392, -0.0885, -0.0165,  0.0556,\n",
       "           -0.0188,  0.0024, -0.0031,  0.0376,  0.0893,  0.0885,  0.0713,  0.0118,\n",
       "           -0.0251, -0.0588,  0.0400,  0.0345, -0.0259, -0.0674, -0.0047, -0.0157,\n",
       "           -0.0784,  0.0768,  0.0219,  0.0486,  0.0423,  0.0086,  0.0219,  0.0549,\n",
       "           -0.0360,  0.0180,  0.0666, -0.0172, -0.0423,  0.0313, -0.0658,  0.0196,\n",
       "           -0.0901, -0.0705,  0.0039,  0.0454,  0.0690, -0.0815,  0.0439,  0.0149,\n",
       "           -0.0306, -0.0462, -0.0776, -0.0204]], size=(10, 100),\n",
       "         dtype=torch.qint8, quantization_scheme=torch.per_tensor_affine,\n",
       "         scale=0.000783578201662749, zero_point=0), Parameter containing:\n",
       "  tensor([-0.0053, -0.0844,  0.0699, -0.0937,  0.0334, -0.0809, -0.0195,  0.0431,\n",
       "          -0.0470, -0.0385], requires_grad=True))),\n",
       " ('relu', ReLU()),\n",
       " ('dequant', DeQuantStub())]"
      ]
     },
     "execution_count": 63,
     "metadata": {},
     "output_type": "execute_result"
    }
   ],
   "source": [
    "list(net_quantized.named_modules())"
   ]
  }
 ],
 "metadata": {
  "kernelspec": {
   "display_name": "Python 3",
   "language": "python",
   "name": "python3"
  },
  "language_info": {
   "codemirror_mode": {
    "name": "ipython",
    "version": 3
   },
   "file_extension": ".py",
   "mimetype": "text/x-python",
   "name": "python",
   "nbconvert_exporter": "python",
   "pygments_lexer": "ipython3",
   "version": "3.9.2"
  }
 },
 "nbformat": 4,
 "nbformat_minor": 2
}
